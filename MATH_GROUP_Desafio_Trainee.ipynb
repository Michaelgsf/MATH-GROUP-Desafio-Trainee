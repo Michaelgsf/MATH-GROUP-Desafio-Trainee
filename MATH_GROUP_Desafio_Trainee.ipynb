{
  "nbformat": 4,
  "nbformat_minor": 0,
  "metadata": {
    "colab": {
      "provenance": []
    },
    "kernelspec": {
      "name": "python3",
      "display_name": "Python 3"
    },
    "language_info": {
      "name": "python"
    }
  },
  "cells": [
    {
      "cell_type": "markdown",
      "source": [
        "# Desafio - Programa de Trainee | MATH GROUP\n",
        "\n",
        "## Autor: Michael Gustavo dos Santos Florentino  \n",
        "**E-mail:** michaelgsf@hotmail.com  \n",
        "**LinkedIn:** [www.linkedin.com/in/michaelgsf](https://www.linkedin.com/in/michaelgsf)  \n",
        "**GitHub:** https://github.com/Michaelgsf  \n",
        "\n",
        "---\n",
        "\n",
        "## Introdução\n",
        "\n",
        "Este notebook apresenta a solução para o desafio técnico proposto pelo **MATH GROUP** como parte do processo seletivo para o **Programa de Trainee**. O objetivo é demonstrar habilidades analíticas e de programação por meio da manipulação de dados e resolução de questões específicas baseadas em um conjunto de tabelas fornecidas.\n",
        "\n",
        "O desafio envolve o processamento e análise de dados transacionais de clientes, respondendo a perguntas estratégicas sobre saldo, proporções e movimentações financeiras. A implementação foi realizada em Python, utilizando a biblioteca pandas para manipulação de dados e cálculos estatísticos.\n",
        "\n",
        "---\n",
        "\n",
        "## Estrutura da Solução\n",
        "\n",
        "1. Criação das Tabelas - Os dados foram estruturados em DataFrames do pandas, simulando um banco de dados relacional.\n",
        "2. Análises e Respostas - Cada pergunta do desafio foi resolvida utilizando operações eficientes em pandas, garantindo precisão nos cálculos.\n",
        "3. Interpretação dos Resultados - Os resultados foram organizados e apresentados de forma clara, garantindo a compreensão das métricas extraídas.\n",
        "\n",
        "A solução busca responder de maneira otimizada e objetiva a todas as questões propostas, garantindo clareza e eficiência na análise dos dados fornecidos.\n",
        "\n",
        "---\n",
        "\n",
        "## Entrega\n",
        "\n",
        "A solução apresentada reflete não apenas a abordagem técnica, mas também a lógica aplicada para resolver cada questão de forma estruturada.\n",
        "\n",
        "Estou animado em participar deste processo, contribuir com minha experiência e conhecimento e com a possíbilidade de trabalhar e aprender com a empresa.!\n",
        "\n",
        "---\n",
        "\n",
        "## Bibliotecas Utilizadas\n",
        "\n",
        "```python\n",
        "import pandas as pd\n",
        "import numpy as np\n",
        "```\n",
        "\n",
        "Vamos à implementação da solução!\n"
      ],
      "metadata": {
        "id": "qe72lBADMr4Y"
      }
    },
    {
      "cell_type": "code",
      "source": [
        "import pandas as pd"
      ],
      "metadata": {
        "id": "GITkigpfPEZS"
      },
      "execution_count": 3,
      "outputs": []
    },
    {
      "cell_type": "markdown",
      "source": [
        "## Criação dos DataFrames  \n",
        "Vamos criar as tabelas de clientes e transações conforme os dados fornecidos."
      ],
      "metadata": {
        "id": "gXvsukX_PZOA"
      }
    },
    {
      "cell_type": "code",
      "source": [
        "clientes = pd.DataFrame({\n",
        "    'CD_CLIENTE': [1, 2, 3, 4, 5],\n",
        "    'NM_CLIENTE': ['João', 'Maria', 'José', 'Adilson', 'Cleber']\n",
        "})\n",
        "\n",
        "transacoes = pd.DataFrame({\n",
        "    'CD_CLIENTE': [1, 1, 1, 1, 1, 5, 5, 5, 5, 5, 3, 3, 3, 4],\n",
        "    'DT_TRANSACAO': pd.to_datetime([\n",
        "        '2021-08-28', '2021-09-09', '2021-09-17', '2021-11-15', '2021-12-24',\n",
        "        '2021-10-28', '2021-11-07', '2021-12-05', '2021-12-14', '2021-12-21',\n",
        "        '2021-10-05', '2021-11-05', '2021-12-05', '2021-10-09'\n",
        "    ]),\n",
        "    'CD_TRANSACAO': ['000', '110', '220', '110', '220', '110', '110', '220', '220', '220', '110', '110', '110', '000'],\n",
        "    'VR_TRANSACAO': [20.00, 78.90, -58.00, 178.90, -110.37, 220.00, 380.00, -398.86, -33.90, -16.90, 720.90, 720.90, 720.90, 50.00]\n",
        "})"
      ],
      "metadata": {
        "id": "bcc6dcweM-8n"
      },
      "execution_count": 2,
      "outputs": []
    },
    {
      "cell_type": "markdown",
      "source": [
        "## Qual cliente teve o maior saldo médio no mês 11?  \n",
        "Para responder, calculamos o saldo médio de cada cliente durante o mês de novembro e identificamos aquele com o maior valor."
      ],
      "metadata": {
        "id": "cVxQIX2QSsXf"
      }
    },
    {
      "cell_type": "code",
      "source": [
        "novembro = transacoes[transacoes['DT_TRANSACAO'].dt.month == 11]\n",
        "saldo_medio = novembro.groupby('CD_CLIENTE')['VR_TRANSACAO'].mean().idxmax()\n",
        "cliente_maior_saldo_medio = clientes.loc[clientes['CD_CLIENTE'] == saldo_medio]\n",
        "print(\"Cliente com maior saldo médio em novembro:\")\n",
        "print(cliente_maior_saldo_medio)"
      ],
      "metadata": {
        "id": "o5sJx-pGOg8v"
      },
      "execution_count": null,
      "outputs": []
    },
    {
      "cell_type": "markdown",
      "source": [
        "## Qual é o saldo de cada cliente?  \n",
        "Aqui, calculamos o saldo total de cada cliente com base em suas transações, considerando entradas (CashIn), saídas (CashOut) e CashBack recebidos.\n"
      ],
      "metadata": {
        "id": "sREN7rRwTDk4"
      }
    },
    {
      "cell_type": "code",
      "source": [
        "saldos = transacoes.groupby('CD_CLIENTE')['VR_TRANSACAO'].sum().reset_index()\n",
        "saldos = saldos.merge(clientes, on='CD_CLIENTE')\n",
        "print(\"Saldo de cada cliente:\")\n",
        "print(saldos)"
      ],
      "metadata": {
        "colab": {
          "base_uri": "https://localhost:8080/"
        },
        "id": "NNh3ucDTTD1k",
        "outputId": "4d9eda04-1666-41f8-ba6f-d30962925771"
      },
      "execution_count": 4,
      "outputs": [
        {
          "output_type": "stream",
          "name": "stdout",
          "text": [
            "Saldo de cada cliente:\n",
            "   CD_CLIENTE  VR_TRANSACAO NM_CLIENTE\n",
            "0           1        109.43       João\n",
            "1           3       2162.70       José\n",
            "2           4         50.00    Adilson\n",
            "3           5        150.34     Cleber\n"
          ]
        }
      ]
    },
    {
      "cell_type": "markdown",
      "source": [
        "## Qual é o saldo médio de clientes que receberam CashBack?  \n",
        "Para responder, filtramos os clientes que receberam pelo menos um CashBack e calculamos o saldo médio deles."
      ],
      "metadata": {
        "id": "bPx33f83YftD"
      }
    },
    {
      "cell_type": "code",
      "source": [
        "com_cashback = transacoes[transacoes['CD_TRANSACAO'] == '000']\n",
        "saldo_medio_cashback = com_cashback.groupby('CD_CLIENTE')['VR_TRANSACAO'].mean()\n",
        "print(\"Saldo médio dos clientes que receberam CashBack:\")\n",
        "print(saldo_medio_cashback)"
      ],
      "metadata": {
        "colab": {
          "base_uri": "https://localhost:8080/"
        },
        "id": "_X-bH3JsYgJz",
        "outputId": "5a403204-5078-48c5-fdeb-6efea8bc2020"
      },
      "execution_count": 5,
      "outputs": [
        {
          "output_type": "stream",
          "name": "stdout",
          "text": [
            "Saldo médio dos clientes que receberam CashBack:\n",
            "CD_CLIENTE\n",
            "1    20.0\n",
            "4    50.0\n",
            "Name: VR_TRANSACAO, dtype: float64\n"
          ]
        }
      ]
    },
    {
      "cell_type": "markdown",
      "source": [
        "## Qual o ticket médio das quatro últimas movimentações dos usuários?  \n",
        "O ticket médio é a média dos valores das últimas quatro transações de cada cliente."
      ],
      "metadata": {
        "id": "lfrtvIF2OmkQ"
      }
    },
    {
      "cell_type": "code",
      "source": [
        "ultimas_transacoes = transacoes.groupby('CD_CLIENTE').tail(4)\n",
        "ticket_medio = ultimas_transacoes.groupby('CD_CLIENTE')['VR_TRANSACAO'].mean()\n",
        "print(\"Ticket médio das quatro últimas transações de cada usuário:\")\n",
        "print(ticket_medio)"
      ],
      "metadata": {
        "colab": {
          "base_uri": "https://localhost:8080/"
        },
        "id": "0cdxFBVVZyDj",
        "outputId": "5864f40b-0434-4d2a-a47f-d6b813922904"
      },
      "execution_count": 8,
      "outputs": [
        {
          "output_type": "stream",
          "name": "stdout",
          "text": [
            "Ticket médio das quatro últimas transações de cada usuário:\n",
            "CD_CLIENTE\n",
            "1     22.3575\n",
            "3    720.9000\n",
            "4     50.0000\n",
            "5    -17.4150\n",
            "Name: VR_TRANSACAO, dtype: float64\n"
          ]
        }
      ]
    },
    {
      "cell_type": "markdown",
      "source": [
        "## Qual é a proporção entre Cash In e Cash Out mensal?  \n",
        "Aqui, analisamos a relação entre depósitos (CashIn) e retiradas (CashOut) em cada mês para entender o fluxo financeiro."
      ],
      "metadata": {
        "id": "Uc1xWOXDZ4cm"
      }
    },
    {
      "cell_type": "code",
      "source": [
        "transacoes['MES'] = transacoes['DT_TRANSACAO'].dt.month\n",
        "cash_in_out = transacoes.pivot_table(index='MES', columns='CD_TRANSACAO', values='VR_TRANSACAO', aggfunc='sum', fill_value=0)\n",
        "cash_in_out['PROPORCAO'] = abs(cash_in_out['110'] / cash_in_out['220'])\n",
        "print(\"Proporção entre Cash In/Out mensal:\")\n",
        "print(cash_in_out['PROPORCAO'])"
      ],
      "metadata": {
        "colab": {
          "base_uri": "https://localhost:8080/"
        },
        "id": "0G-Y2IArZ4tq",
        "outputId": "8ea8e560-96f2-400b-c181-8f62307b2d85"
      },
      "execution_count": 7,
      "outputs": [
        {
          "output_type": "stream",
          "name": "stdout",
          "text": [
            "Proporção entre Cash In/Out mensal:\n",
            "MES\n",
            "8          NaN\n",
            "9     1.360345\n",
            "10         inf\n",
            "11         inf\n",
            "12    1.287252\n",
            "Name: PROPORCAO, dtype: float64\n"
          ]
        }
      ]
    },
    {
      "cell_type": "markdown",
      "source": [
        "## Qual a última transação de cada tipo para cada usuário?  \n",
        "Identificamos a última ocorrência de cada tipo de transação (CashBack, CashIn e CashOut) para cada cliente."
      ],
      "metadata": {
        "id": "DrI0c1NFZ-J1"
      }
    },
    {
      "cell_type": "code",
      "source": [
        "ultima_transacao_tipo = transacoes.sort_values(by=['DT_TRANSACAO']).groupby(['CD_CLIENTE', 'CD_TRANSACAO']).last()\n",
        "print(\"Última transação de cada tipo para cada usuário:\")\n",
        "print(ultima_transacao_tipo)"
      ],
      "metadata": {
        "colab": {
          "base_uri": "https://localhost:8080/"
        },
        "id": "qrxrZgbtZ-Ro",
        "outputId": "70d1c0e5-73da-45ac-ed4a-9aae1587138a"
      },
      "execution_count": 9,
      "outputs": [
        {
          "output_type": "stream",
          "name": "stdout",
          "text": [
            "Última transação de cada tipo para cada usuário:\n",
            "                        DT_TRANSACAO  VR_TRANSACAO  MES\n",
            "CD_CLIENTE CD_TRANSACAO                                \n",
            "1          000            2021-08-28         20.00    8\n",
            "           110            2021-11-15        178.90   11\n",
            "           220            2021-12-24       -110.37   12\n",
            "3          110            2021-12-05        720.90   12\n",
            "4          000            2021-10-09         50.00   10\n",
            "5          110            2021-11-07        380.00   11\n",
            "           220            2021-12-21        -16.90   12\n"
          ]
        }
      ]
    },
    {
      "cell_type": "markdown",
      "source": [
        "## Qual a última transação de cada tipo para cada usuário por mês?  \n",
        "Semelhante à análise anterior, mas aqui consideramos a última transação de cada tipo para cada mês, permitindo uma visão temporal mais detalhada."
      ],
      "metadata": {
        "id": "eFW5XTOEbqls"
      }
    },
    {
      "cell_type": "code",
      "source": [
        "ultima_transacao_tipo_mes = transacoes.sort_values(by=['DT_TRANSACAO']).groupby(['CD_CLIENTE', 'CD_TRANSACAO', 'MES']).last()\n",
        "print(\"Última transação de cada tipo para cada usuário por mês:\")\n",
        "print(ultima_transacao_tipo_mes)"
      ],
      "metadata": {
        "colab": {
          "base_uri": "https://localhost:8080/"
        },
        "id": "lSXsF3K2brQa",
        "outputId": "5ef1bed3-84b7-42cc-ca62-785168fb7d64"
      },
      "execution_count": 10,
      "outputs": [
        {
          "output_type": "stream",
          "name": "stdout",
          "text": [
            "Última transação de cada tipo para cada usuário por mês:\n",
            "                            DT_TRANSACAO  VR_TRANSACAO\n",
            "CD_CLIENTE CD_TRANSACAO MES                           \n",
            "1          000          8     2021-08-28         20.00\n",
            "           110          9     2021-09-09         78.90\n",
            "                        11    2021-11-15        178.90\n",
            "           220          9     2021-09-17        -58.00\n",
            "                        12    2021-12-24       -110.37\n",
            "3          110          10    2021-10-05        720.90\n",
            "                        11    2021-11-05        720.90\n",
            "                        12    2021-12-05        720.90\n",
            "4          000          10    2021-10-09         50.00\n",
            "5          110          10    2021-10-28        220.00\n",
            "                        11    2021-11-07        380.00\n",
            "           220          12    2021-12-21        -16.90\n"
          ]
        }
      ]
    },
    {
      "cell_type": "markdown",
      "source": [
        "## Qual a quantidade de usuários que movimentaram a conta?  \n",
        "Nesta análise, contamos quantos clientes realizaram pelo menos uma transação no período analisado.\n"
      ],
      "metadata": {
        "id": "S1gTcTEvcDSt"
      }
    },
    {
      "cell_type": "code",
      "source": [
        "usuarios_ativos = transacoes['CD_CLIENTE'].nunique()\n",
        "print(\"Quantidade de usuários que movimentaram a conta:\", usuarios_ativos)"
      ],
      "metadata": {
        "colab": {
          "base_uri": "https://localhost:8080/"
        },
        "id": "5vmmOV8TcDg-",
        "outputId": "c12512e0-2b39-4b83-b4ca-7f6ee56c2905"
      },
      "execution_count": 11,
      "outputs": [
        {
          "output_type": "stream",
          "name": "stdout",
          "text": [
            "Quantidade de usuários que movimentaram a conta: 4\n"
          ]
        }
      ]
    },
    {
      "cell_type": "markdown",
      "source": [
        "## Qual o balanço do final de 2021?  \n",
        "Calculamos o saldo final de todas as contas ao término do ano de 2021, considerando todas as movimentações realizadas."
      ],
      "metadata": {
        "id": "XBeHM6uycfiy"
      }
    },
    {
      "cell_type": "code",
      "source": [
        "balanco_2021 = transacoes['VR_TRANSACAO'].sum()\n",
        "print(\"Balanço final de 2021:\", round(balanco_2021, 2))"
      ],
      "metadata": {
        "colab": {
          "base_uri": "https://localhost:8080/"
        },
        "id": "xYxUwE0Acf-N",
        "outputId": "87870760-ad3c-4b5d-8608-7922f8f8f197"
      },
      "execution_count": 15,
      "outputs": [
        {
          "output_type": "stream",
          "name": "stdout",
          "text": [
            "Balanço final de 2021: 2472.47\n"
          ]
        }
      ]
    },
    {
      "cell_type": "markdown",
      "source": [
        "## Quantos usuários que receberam CashBack continuaram interagindo com este banco?  \n",
        "Verificamos quantos clientes que receberam pelo menos um CashBack realizaram transações subsequentes, mostrando sua continuidade na plataforma.\n"
      ],
      "metadata": {
        "id": "unFf6qSuc0cy"
      }
    },
    {
      "cell_type": "code",
      "source": [
        "usuarios_cashback = cashback['CD_CLIENTE'].unique()\n",
        "usuarios_interagiram = transacoes['CD_CLIENTE'].unique()\n",
        "usuarios_continuaram = set(usuarios_cashback) & set(usuarios_interagiram)\n",
        "print(\"Usuários que receberam CashBack e continuaram interagindo:\", len(usuarios_continuaram))"
      ],
      "metadata": {
        "id": "R3IgGk4gc0qg"
      },
      "execution_count": null,
      "outputs": []
    },
    {
      "cell_type": "markdown",
      "source": [
        "## Qual a primeira e a última movimentação dos usuários com saldo maior que R$100?\n",
        "\n",
        "Filtramos os clientes cujo saldo total seja superior a R$ 100 e identificamos sua primeira e última transação no período analisado.\n"
      ],
      "metadata": {
        "id": "ZqufhotTc35z"
      }
    },
    {
      "cell_type": "code",
      "source": [
        "usuarios_saldo_maior_100 = saldos[saldos['VR_TRANSACAO'] > 100]['CD_CLIENTE']\n",
        "movimentacoes_filtradas = transacoes[transacoes['CD_CLIENTE'].isin(usuarios_saldo_maior_100)]\n",
        "primeira_ultima_mov = movimentacoes_filtradas.groupby('CD_CLIENTE')['DT_TRANSACAO'].agg(['first', 'last'])\n",
        "print(\"Primeira e última movimentação dos usuários com saldo maior que R$100:\")\n",
        "print(primeira_ultima_mov)"
      ],
      "metadata": {
        "colab": {
          "base_uri": "https://localhost:8080/"
        },
        "id": "jsP0JUnFc4GR",
        "outputId": "616a1fcf-4293-4b93-f9bd-0b668017c779"
      },
      "execution_count": 16,
      "outputs": [
        {
          "output_type": "stream",
          "name": "stdout",
          "text": [
            "Primeira e última movimentação dos usuários com saldo maior que R$100:\n",
            "                first       last\n",
            "CD_CLIENTE                      \n",
            "1          2021-08-28 2021-12-24\n",
            "3          2021-10-05 2021-12-05\n",
            "5          2021-10-28 2021-12-21\n"
          ]
        }
      ]
    },
    {
      "cell_type": "markdown",
      "source": [
        "## Qual o balanço das últimas quatro movimentações de cada usuário?  \n",
        "Aqui, calculamos a soma das quatro últimas transações de cada cliente, para entender o impacto financeiro recente de suas movimentações.\n"
      ],
      "metadata": {
        "id": "oJ4Kvp3WddcT"
      }
    },
    {
      "cell_type": "code",
      "source": [
        "balanco_ultimas_quatro = ultimas_transacoes.groupby('CD_CLIENTE')['VR_TRANSACAO'].sum()\n",
        "print(\"Balanço das últimas quatro movimentações de cada usuário:\")\n",
        "print(balanco_ultimas_quatro)"
      ],
      "metadata": {
        "colab": {
          "base_uri": "https://localhost:8080/"
        },
        "id": "saDqcKWOddwT",
        "outputId": "663dca8c-9767-4904-d504-cdff18a4b3be"
      },
      "execution_count": 17,
      "outputs": [
        {
          "output_type": "stream",
          "name": "stdout",
          "text": [
            "Balanço das últimas quatro movimentações de cada usuário:\n",
            "CD_CLIENTE\n",
            "1      89.43\n",
            "3    2162.70\n",
            "4      50.00\n",
            "5     -69.66\n",
            "Name: VR_TRANSACAO, dtype: float64\n"
          ]
        }
      ]
    },
    {
      "cell_type": "markdown",
      "source": [
        "## Qual o ticket médio das últimas quatro movimentações de cada usuário?  \n",
        "Nesta análise, determinamos a média das quatro últimas transações de cada cliente, ajudando a identificar padrões de consumo ou depósito.\n"
      ],
      "metadata": {
        "id": "QNfMxbD3dpuH"
      }
    },
    {
      "cell_type": "code",
      "source": [
        "ticket_medio_ultimas_quatro = ultimas_transacoes.groupby('CD_CLIENTE')['VR_TRANSACAO'].mean()\n",
        "print(\"Ticket médio das últimas quatro movimentações de cada usuário:\")\n",
        "print(ticket_medio_ultimas_quatro)"
      ],
      "metadata": {
        "colab": {
          "base_uri": "https://localhost:8080/"
        },
        "id": "UIZgsQvXdp2q",
        "outputId": "ba635aa3-70bf-4dfa-ad52-6e5a37449c1d"
      },
      "execution_count": 19,
      "outputs": [
        {
          "output_type": "stream",
          "name": "stdout",
          "text": [
            "Ticket médio das últimas quatro movimentações de cada usuário:\n",
            "CD_CLIENTE\n",
            "1     22.3575\n",
            "3    720.9000\n",
            "4     50.0000\n",
            "5    -17.4150\n",
            "Name: VR_TRANSACAO, dtype: float64\n"
          ]
        }
      ]
    },
    {
      "cell_type": "markdown",
      "source": [
        "## Conclusão  \n",
        "\n",
        "Este notebook apresentou minha resolução do **Desafio Técnico - Programa de Trainee** da **MATH GROUP**, abordando questões relacionadas à análise de dados transacionais de clientes.  \n",
        "\n",
        "A solução foi desenvolvida utilizando a biblioteca pandas para manipulação e análise dos dados, garantindo cálculos eficientes e respostas precisas para cada questão proposta. Durante o desenvolvimento, foram aplicadas técnicas de limpeza, transformação e agregação de dados, assegurando que os resultados representassem corretamente a realidade financeira dos clientes.  \n",
        "\n",
        "O código foi estruturado para garantir clareza, eficiência e reprodutibilidade, permitindo que futuras análises possam ser facilmente adaptadas ou expandidas.  \n",
        "\n",
        "Estou entusiasmado por participar deste processo e grato pela oportunidade de demonstrar minhas habilidades analíticas e de programação. Fico à disposição para qualquer esclarecimento ou discussão sobre os métodos utilizados.  \n",
        "\n",
        "Agradeço a oportunidade!\n"
      ],
      "metadata": {
        "id": "QiTKJp9meo7o"
      }
    }
  ]
}